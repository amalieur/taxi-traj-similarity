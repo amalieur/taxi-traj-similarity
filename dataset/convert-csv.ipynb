{
 "cells": [
  {
   "cell_type": "markdown",
   "metadata": {},
   "source": [
    "# Convert format of coordinates \n",
    "\n",
    "Coordinates of csv-file from mymap is converted into the same format of the coordinates in the POLYLINE field of train.csv"
   ]
  },
  {
   "cell_type": "code",
   "execution_count": 7,
   "metadata": {},
   "outputs": [],
   "source": [
    "import csv\n",
    "import re"
   ]
  },
  {
   "cell_type": "code",
   "execution_count": 17,
   "metadata": {},
   "outputs": [],
   "source": [
    "def convert_coordinates(line):\n",
    "    # Extracting coordinates from LINESTRING using regex\n",
    "    coordinates = re.findall(r'(-?\\d+\\.\\d+\\s-?\\d+\\.\\d+)', line)\n",
    "    # Converting coordinates to the desired format\n",
    "    formatted_coordinates = [[float(coord) for coord in point.split()] for point in coordinates]\n",
    "    return formatted_coordinates\n",
    "\n",
    "def main(input_file, output_file):\n",
    "    with open(input_file, 'r', newline='') as infile, open(output_file, 'w', newline='') as outfile:\n",
    "        reader = csv.reader(infile)\n",
    "        writer = csv.writer(outfile)\n",
    "        for row in reader:\n",
    "            # Extracting name and LINESTRING from the row\n",
    "            name, linestring = row[1], row[0]\n",
    "            # Converting coordinates\n",
    "            formatted_coordinates = convert_coordinates(linestring)\n",
    "            # Writing name and coordinates to the output file\n",
    "            writer.writerow([name, formatted_coordinates])\n",
    "\n",
    "if __name__ == \"__main__\":\n",
    "    input_file = \"testbusroutes.csv\"\n",
    "    output_file = \"formatted-busroutes.csv\"  \n",
    "    main(input_file, output_file)\n"
   ]
  }
 ],
 "metadata": {
  "kernelspec": {
   "display_name": "Python 3",
   "language": "python",
   "name": "python3"
  },
  "language_info": {
   "codemirror_mode": {
    "name": "ipython",
    "version": 3
   },
   "file_extension": ".py",
   "mimetype": "text/x-python",
   "name": "python",
   "nbconvert_exporter": "python",
   "pygments_lexer": "ipython3",
   "version": "3.12.1"
  }
 },
 "nbformat": 4,
 "nbformat_minor": 2
}
