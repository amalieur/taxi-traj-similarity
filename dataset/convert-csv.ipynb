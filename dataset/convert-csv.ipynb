{
 "cells": [
  {
   "cell_type": "markdown",
   "metadata": {},
   "source": [
    "# Convert format of coordinates \n",
    "\n",
    "Coordinates of csv-file from mymap is converted into the same format of the coordinates in the POLYLINE field of train.csv"
   ]
  },
  {
   "cell_type": "code",
   "execution_count": null,
   "metadata": {},
   "outputs": [],
   "source": [
    "import re\n",
    "import csv\n",
    "import pandas as pd"
   ]
  },
  {
   "cell_type": "markdown",
   "metadata": {},
   "source": [
    "1. Reads the CSV file row by row.\n",
    "2. For each row, extract the WKT string from the first column.\n",
    "3. Then, extract the coordinates from the WKT string using regex.\n",
    "4. Convert the extracted coordinates to the desired format.\n",
    "5. Writes the converted coordinates to the output CSV file.\n",
    "\n",
    "This process is repeated for each row in the input CSV file.\n",
    "\n",
    "From ChatGPT"
   ]
  },
  {
   "cell_type": "code",
   "execution_count": null,
   "metadata": {},
   "outputs": [],
   "source": [
    "def convert_coordinates(input_str):\n",
    "    coordinates = re.findall(r'(-?\\d+\\.\\d+)\\s(-?\\d+\\.\\d+)', input_str)\n",
    "    converted_coords = [[float(lon), float(lat)] for lon, lat in coordinates]\n",
    "    return converted_coords"
   ]
  },
  {
   "cell_type": "code",
   "execution_count": null,
   "metadata": {},
   "outputs": [],
   "source": [
    "def main(input_file, output_file):\n",
    "    with open(input_file, 'r') as csvfile:\n",
    "        with open(output_file, 'w', newline='') as outfile:\n",
    "            csvreader = csv.reader(csvfile)\n",
    "            csvwriter = csv.writer(outfile)\n",
    "            for row in csvreader:\n",
    "                converted_row = []\n",
    "                for coordinates in row:\n",
    "                    converted_coords = convert_coordinates(coordinates)\n",
    "                    converted_row.append(converted_coords)\n",
    "                csvwriter.writerow([converted_row])"
   ]
  },
  {
   "cell_type": "code",
   "execution_count": null,
   "metadata": {},
   "outputs": [],
   "source": [
    "if __name__ == \"__main__\":\n",
    "    input_file = \"input.csv\"\n",
    "    output_file = \"output.csv\"\n",
    "    main(input_file, output_file)"
   ]
  },
  {
   "cell_type": "markdown",
   "metadata": {},
   "source": [
    "### Samme som over, men med pandas og tilpasset .ipynb-format"
   ]
  },
  {
   "cell_type": "code",
   "execution_count": null,
   "metadata": {},
   "outputs": [],
   "source": [
    "def convert_coordinates(input_str):\n",
    "    coordinates = re.findall(r'(-?\\d+\\.\\d+)\\s(-?\\d+\\.\\d+)', input_str)\n",
    "    converted_coords = [[float(lon), float(lat)] for lon, lat in coordinates]\n",
    "    return converted_coords\n",
    "\n",
    "def process_row(row):\n",
    "    wkt = row['WKT']\n",
    "    coordinates_str = re.search(r'\\((.*?)\\)', wkt).group(1)\n",
    "    converted_coords = convert_coordinates(coordinates_str)\n",
    "    return converted_coords\n"
   ]
  },
  {
   "cell_type": "code",
   "execution_count": null,
   "metadata": {},
   "outputs": [],
   "source": [
    "# Denne bruker dataframe i tillegg, i motsetning til den øverste\n",
    "def main(input_file, output_file):\n",
    "    df = pd.read_csv(input_file)\n",
    "    df['converted_coords'] = df.apply(process_row, axis=1)\n",
    "    df.to_csv(output_file, columns=['converted_coords'], index=False)"
   ]
  },
  {
   "cell_type": "code",
   "execution_count": null,
   "metadata": {},
   "outputs": [],
   "source": [
    "input_file = \"input.csv\"\n",
    "output_file = \"output.csv\"\n",
    "main(input_file, output_file)"
   ]
  }
 ],
 "metadata": {
  "language_info": {
   "name": "python"
  }
 },
 "nbformat": 4,
 "nbformat_minor": 2
}
