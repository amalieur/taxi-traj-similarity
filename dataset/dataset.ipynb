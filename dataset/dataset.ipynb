{
 "cells": [
  {
   "cell_type": "markdown",
   "metadata": {},
   "source": [
    "# Preprocessing of data"
   ]
  },
  {
   "cell_type": "markdown",
   "metadata": {},
   "source": [
    "### Importings"
   ]
  },
  {
   "cell_type": "code",
   "execution_count": 2,
   "metadata": {},
   "outputs": [
    {
     "name": "stderr",
     "output_type": "stream",
     "text": [
      "C:\\Users\\vanbo\\AppData\\Local\\Temp\\ipykernel_22296\\2884498329.py:1: DeprecationWarning: \n",
      "Pyarrow will become a required dependency of pandas in the next major release of pandas (pandas 3.0),\n",
      "(to allow more performant data types, such as the Arrow string type, and better interoperability with other libraries)\n",
      "but was not found to be installed on your system.\n",
      "If this would cause problems for you,\n",
      "please provide us feedback at https://github.com/pandas-dev/pandas/issues/54466\n",
      "        \n",
      "  import pandas as pd\n"
     ]
    }
   ],
   "source": [
    "import pandas as pd\n",
    "import matplotlib.pyplot as pyplot"
   ]
  },
  {
   "cell_type": "markdown",
   "metadata": {},
   "source": [
    "### Print length of dataset and first 10 rows of the data"
   ]
  },
  {
   "cell_type": "code",
   "execution_count": 3,
   "metadata": {},
   "outputs": [],
   "source": [
    "data = pd.read_csv('train.csv')\n",
    "originalLength = len(data)"
   ]
  },
  {
   "cell_type": "code",
   "execution_count": 4,
   "metadata": {},
   "outputs": [
    {
     "name": "stdout",
     "output_type": "stream",
     "text": [
      "Original størrelse på datasettet:\n",
      "1710670\n"
     ]
    },
    {
     "data": {
      "text/html": [
       "<div>\n",
       "<style scoped>\n",
       "    .dataframe tbody tr th:only-of-type {\n",
       "        vertical-align: middle;\n",
       "    }\n",
       "\n",
       "    .dataframe tbody tr th {\n",
       "        vertical-align: top;\n",
       "    }\n",
       "\n",
       "    .dataframe thead th {\n",
       "        text-align: right;\n",
       "    }\n",
       "</style>\n",
       "<table border=\"1\" class=\"dataframe\">\n",
       "  <thead>\n",
       "    <tr style=\"text-align: right;\">\n",
       "      <th></th>\n",
       "      <th>TRIP_ID</th>\n",
       "      <th>CALL_TYPE</th>\n",
       "      <th>ORIGIN_CALL</th>\n",
       "      <th>ORIGIN_STAND</th>\n",
       "      <th>TAXI_ID</th>\n",
       "      <th>TIMESTAMP</th>\n",
       "      <th>DAY_TYPE</th>\n",
       "      <th>MISSING_DATA</th>\n",
       "      <th>POLYLINE</th>\n",
       "    </tr>\n",
       "  </thead>\n",
       "  <tbody>\n",
       "    <tr>\n",
       "      <th>0</th>\n",
       "      <td>1372636858620000589</td>\n",
       "      <td>C</td>\n",
       "      <td>NaN</td>\n",
       "      <td>NaN</td>\n",
       "      <td>20000589</td>\n",
       "      <td>1372636858</td>\n",
       "      <td>A</td>\n",
       "      <td>False</td>\n",
       "      <td>[[-8.618643,41.141412],[-8.618499,41.141376],[...</td>\n",
       "    </tr>\n",
       "    <tr>\n",
       "      <th>1</th>\n",
       "      <td>1372637303620000596</td>\n",
       "      <td>B</td>\n",
       "      <td>NaN</td>\n",
       "      <td>7.0</td>\n",
       "      <td>20000596</td>\n",
       "      <td>1372637303</td>\n",
       "      <td>A</td>\n",
       "      <td>False</td>\n",
       "      <td>[[-8.639847,41.159826],[-8.640351,41.159871],[...</td>\n",
       "    </tr>\n",
       "    <tr>\n",
       "      <th>2</th>\n",
       "      <td>1372636951620000320</td>\n",
       "      <td>C</td>\n",
       "      <td>NaN</td>\n",
       "      <td>NaN</td>\n",
       "      <td>20000320</td>\n",
       "      <td>1372636951</td>\n",
       "      <td>A</td>\n",
       "      <td>False</td>\n",
       "      <td>[[-8.612964,41.140359],[-8.613378,41.14035],[-...</td>\n",
       "    </tr>\n",
       "    <tr>\n",
       "      <th>3</th>\n",
       "      <td>1372636854620000520</td>\n",
       "      <td>C</td>\n",
       "      <td>NaN</td>\n",
       "      <td>NaN</td>\n",
       "      <td>20000520</td>\n",
       "      <td>1372636854</td>\n",
       "      <td>A</td>\n",
       "      <td>False</td>\n",
       "      <td>[[-8.574678,41.151951],[-8.574705,41.151942],[...</td>\n",
       "    </tr>\n",
       "    <tr>\n",
       "      <th>4</th>\n",
       "      <td>1372637091620000337</td>\n",
       "      <td>C</td>\n",
       "      <td>NaN</td>\n",
       "      <td>NaN</td>\n",
       "      <td>20000337</td>\n",
       "      <td>1372637091</td>\n",
       "      <td>A</td>\n",
       "      <td>False</td>\n",
       "      <td>[[-8.645994,41.18049],[-8.645949,41.180517],[-...</td>\n",
       "    </tr>\n",
       "    <tr>\n",
       "      <th>5</th>\n",
       "      <td>1372636965620000231</td>\n",
       "      <td>C</td>\n",
       "      <td>NaN</td>\n",
       "      <td>NaN</td>\n",
       "      <td>20000231</td>\n",
       "      <td>1372636965</td>\n",
       "      <td>A</td>\n",
       "      <td>False</td>\n",
       "      <td>[[-8.615502,41.140674],[-8.614854,41.140926],[...</td>\n",
       "    </tr>\n",
       "    <tr>\n",
       "      <th>6</th>\n",
       "      <td>1372637210620000456</td>\n",
       "      <td>C</td>\n",
       "      <td>NaN</td>\n",
       "      <td>NaN</td>\n",
       "      <td>20000456</td>\n",
       "      <td>1372637210</td>\n",
       "      <td>A</td>\n",
       "      <td>False</td>\n",
       "      <td>[[-8.57952,41.145948],[-8.580942,41.145039],[-...</td>\n",
       "    </tr>\n",
       "    <tr>\n",
       "      <th>7</th>\n",
       "      <td>1372637299620000011</td>\n",
       "      <td>C</td>\n",
       "      <td>NaN</td>\n",
       "      <td>NaN</td>\n",
       "      <td>20000011</td>\n",
       "      <td>1372637299</td>\n",
       "      <td>A</td>\n",
       "      <td>False</td>\n",
       "      <td>[[-8.617563,41.146182],[-8.617527,41.145849],[...</td>\n",
       "    </tr>\n",
       "    <tr>\n",
       "      <th>8</th>\n",
       "      <td>1372637274620000403</td>\n",
       "      <td>C</td>\n",
       "      <td>NaN</td>\n",
       "      <td>NaN</td>\n",
       "      <td>20000403</td>\n",
       "      <td>1372637274</td>\n",
       "      <td>A</td>\n",
       "      <td>False</td>\n",
       "      <td>[[-8.611794,41.140557],[-8.611785,41.140575],[...</td>\n",
       "    </tr>\n",
       "    <tr>\n",
       "      <th>9</th>\n",
       "      <td>1372637905620000320</td>\n",
       "      <td>C</td>\n",
       "      <td>NaN</td>\n",
       "      <td>NaN</td>\n",
       "      <td>20000320</td>\n",
       "      <td>1372637905</td>\n",
       "      <td>A</td>\n",
       "      <td>False</td>\n",
       "      <td>[[-8.615907,41.140557],[-8.614449,41.141088],[...</td>\n",
       "    </tr>\n",
       "  </tbody>\n",
       "</table>\n",
       "</div>"
      ],
      "text/plain": [
       "               TRIP_ID CALL_TYPE  ORIGIN_CALL  ORIGIN_STAND   TAXI_ID  \\\n",
       "0  1372636858620000589         C          NaN           NaN  20000589   \n",
       "1  1372637303620000596         B          NaN           7.0  20000596   \n",
       "2  1372636951620000320         C          NaN           NaN  20000320   \n",
       "3  1372636854620000520         C          NaN           NaN  20000520   \n",
       "4  1372637091620000337         C          NaN           NaN  20000337   \n",
       "5  1372636965620000231         C          NaN           NaN  20000231   \n",
       "6  1372637210620000456         C          NaN           NaN  20000456   \n",
       "7  1372637299620000011         C          NaN           NaN  20000011   \n",
       "8  1372637274620000403         C          NaN           NaN  20000403   \n",
       "9  1372637905620000320         C          NaN           NaN  20000320   \n",
       "\n",
       "    TIMESTAMP DAY_TYPE  MISSING_DATA  \\\n",
       "0  1372636858        A         False   \n",
       "1  1372637303        A         False   \n",
       "2  1372636951        A         False   \n",
       "3  1372636854        A         False   \n",
       "4  1372637091        A         False   \n",
       "5  1372636965        A         False   \n",
       "6  1372637210        A         False   \n",
       "7  1372637299        A         False   \n",
       "8  1372637274        A         False   \n",
       "9  1372637905        A         False   \n",
       "\n",
       "                                            POLYLINE  \n",
       "0  [[-8.618643,41.141412],[-8.618499,41.141376],[...  \n",
       "1  [[-8.639847,41.159826],[-8.640351,41.159871],[...  \n",
       "2  [[-8.612964,41.140359],[-8.613378,41.14035],[-...  \n",
       "3  [[-8.574678,41.151951],[-8.574705,41.151942],[...  \n",
       "4  [[-8.645994,41.18049],[-8.645949,41.180517],[-...  \n",
       "5  [[-8.615502,41.140674],[-8.614854,41.140926],[...  \n",
       "6  [[-8.57952,41.145948],[-8.580942,41.145039],[-...  \n",
       "7  [[-8.617563,41.146182],[-8.617527,41.145849],[...  \n",
       "8  [[-8.611794,41.140557],[-8.611785,41.140575],[...  \n",
       "9  [[-8.615907,41.140557],[-8.614449,41.141088],[...  "
      ]
     },
     "execution_count": 4,
     "metadata": {},
     "output_type": "execute_result"
    }
   ],
   "source": [
    "print(\"Original størrelse på datasettet:\")\n",
    "print(originalLength)\n",
    "data.head(10)"
   ]
  },
  {
   "cell_type": "markdown",
   "metadata": {},
   "source": [
    "### Removing unwanted rows from dataset"
   ]
  },
  {
   "cell_type": "markdown",
   "metadata": {},
   "source": [
    "Remove all columns with MISSING_DATA=True. Because we only want the trips that do not miss any datapoint"
   ]
  },
  {
   "cell_type": "code",
   "execution_count": 5,
   "metadata": {},
   "outputs": [],
   "source": [
    "data = data[data['MISSING_DATA']!=True]"
   ]
  },
  {
   "cell_type": "code",
   "execution_count": 6,
   "metadata": {},
   "outputs": [
    {
     "name": "stdout",
     "output_type": "stream",
     "text": [
      "New length of dataset:\n",
      "1710660\n",
      "Number of removed rows:\n",
      "10\n"
     ]
    }
   ],
   "source": [
    "print(\"New length of dataset:\")\n",
    "newLength1 = len(data)\n",
    "print(newLength1)\n",
    "\n",
    "print(\"Number of removed rows:\")\n",
    "print(originalLength - len(data))"
   ]
  },
  {
   "cell_type": "markdown",
   "metadata": {},
   "source": [
    "### Removing columns that we do not need anymore: \n",
    "ORIGIN_CALL, ORIGIN_STAND, TAXI_ID and MISSING_DATA (already used the info we needed from this column)."
   ]
  },
  {
   "cell_type": "code",
   "execution_count": 7,
   "metadata": {},
   "outputs": [
    {
     "data": {
      "text/html": [
       "<div>\n",
       "<style scoped>\n",
       "    .dataframe tbody tr th:only-of-type {\n",
       "        vertical-align: middle;\n",
       "    }\n",
       "\n",
       "    .dataframe tbody tr th {\n",
       "        vertical-align: top;\n",
       "    }\n",
       "\n",
       "    .dataframe thead th {\n",
       "        text-align: right;\n",
       "    }\n",
       "</style>\n",
       "<table border=\"1\" class=\"dataframe\">\n",
       "  <thead>\n",
       "    <tr style=\"text-align: right;\">\n",
       "      <th></th>\n",
       "      <th>TRIP_ID</th>\n",
       "      <th>CALL_TYPE</th>\n",
       "      <th>TIMESTAMP</th>\n",
       "      <th>DAY_TYPE</th>\n",
       "      <th>POLYLINE</th>\n",
       "    </tr>\n",
       "  </thead>\n",
       "  <tbody>\n",
       "    <tr>\n",
       "      <th>0</th>\n",
       "      <td>1372636858620000589</td>\n",
       "      <td>C</td>\n",
       "      <td>1372636858</td>\n",
       "      <td>A</td>\n",
       "      <td>[[-8.618643,41.141412],[-8.618499,41.141376],[...</td>\n",
       "    </tr>\n",
       "    <tr>\n",
       "      <th>1</th>\n",
       "      <td>1372637303620000596</td>\n",
       "      <td>B</td>\n",
       "      <td>1372637303</td>\n",
       "      <td>A</td>\n",
       "      <td>[[-8.639847,41.159826],[-8.640351,41.159871],[...</td>\n",
       "    </tr>\n",
       "    <tr>\n",
       "      <th>2</th>\n",
       "      <td>1372636951620000320</td>\n",
       "      <td>C</td>\n",
       "      <td>1372636951</td>\n",
       "      <td>A</td>\n",
       "      <td>[[-8.612964,41.140359],[-8.613378,41.14035],[-...</td>\n",
       "    </tr>\n",
       "    <tr>\n",
       "      <th>3</th>\n",
       "      <td>1372636854620000520</td>\n",
       "      <td>C</td>\n",
       "      <td>1372636854</td>\n",
       "      <td>A</td>\n",
       "      <td>[[-8.574678,41.151951],[-8.574705,41.151942],[...</td>\n",
       "    </tr>\n",
       "    <tr>\n",
       "      <th>4</th>\n",
       "      <td>1372637091620000337</td>\n",
       "      <td>C</td>\n",
       "      <td>1372637091</td>\n",
       "      <td>A</td>\n",
       "      <td>[[-8.645994,41.18049],[-8.645949,41.180517],[-...</td>\n",
       "    </tr>\n",
       "    <tr>\n",
       "      <th>5</th>\n",
       "      <td>1372636965620000231</td>\n",
       "      <td>C</td>\n",
       "      <td>1372636965</td>\n",
       "      <td>A</td>\n",
       "      <td>[[-8.615502,41.140674],[-8.614854,41.140926],[...</td>\n",
       "    </tr>\n",
       "    <tr>\n",
       "      <th>6</th>\n",
       "      <td>1372637210620000456</td>\n",
       "      <td>C</td>\n",
       "      <td>1372637210</td>\n",
       "      <td>A</td>\n",
       "      <td>[[-8.57952,41.145948],[-8.580942,41.145039],[-...</td>\n",
       "    </tr>\n",
       "    <tr>\n",
       "      <th>7</th>\n",
       "      <td>1372637299620000011</td>\n",
       "      <td>C</td>\n",
       "      <td>1372637299</td>\n",
       "      <td>A</td>\n",
       "      <td>[[-8.617563,41.146182],[-8.617527,41.145849],[...</td>\n",
       "    </tr>\n",
       "    <tr>\n",
       "      <th>8</th>\n",
       "      <td>1372637274620000403</td>\n",
       "      <td>C</td>\n",
       "      <td>1372637274</td>\n",
       "      <td>A</td>\n",
       "      <td>[[-8.611794,41.140557],[-8.611785,41.140575],[...</td>\n",
       "    </tr>\n",
       "    <tr>\n",
       "      <th>9</th>\n",
       "      <td>1372637905620000320</td>\n",
       "      <td>C</td>\n",
       "      <td>1372637905</td>\n",
       "      <td>A</td>\n",
       "      <td>[[-8.615907,41.140557],[-8.614449,41.141088],[...</td>\n",
       "    </tr>\n",
       "  </tbody>\n",
       "</table>\n",
       "</div>"
      ],
      "text/plain": [
       "               TRIP_ID CALL_TYPE   TIMESTAMP DAY_TYPE  \\\n",
       "0  1372636858620000589         C  1372636858        A   \n",
       "1  1372637303620000596         B  1372637303        A   \n",
       "2  1372636951620000320         C  1372636951        A   \n",
       "3  1372636854620000520         C  1372636854        A   \n",
       "4  1372637091620000337         C  1372637091        A   \n",
       "5  1372636965620000231         C  1372636965        A   \n",
       "6  1372637210620000456         C  1372637210        A   \n",
       "7  1372637299620000011         C  1372637299        A   \n",
       "8  1372637274620000403         C  1372637274        A   \n",
       "9  1372637905620000320         C  1372637905        A   \n",
       "\n",
       "                                            POLYLINE  \n",
       "0  [[-8.618643,41.141412],[-8.618499,41.141376],[...  \n",
       "1  [[-8.639847,41.159826],[-8.640351,41.159871],[...  \n",
       "2  [[-8.612964,41.140359],[-8.613378,41.14035],[-...  \n",
       "3  [[-8.574678,41.151951],[-8.574705,41.151942],[...  \n",
       "4  [[-8.645994,41.18049],[-8.645949,41.180517],[-...  \n",
       "5  [[-8.615502,41.140674],[-8.614854,41.140926],[...  \n",
       "6  [[-8.57952,41.145948],[-8.580942,41.145039],[-...  \n",
       "7  [[-8.617563,41.146182],[-8.617527,41.145849],[...  \n",
       "8  [[-8.611794,41.140557],[-8.611785,41.140575],[...  \n",
       "9  [[-8.615907,41.140557],[-8.614449,41.141088],[...  "
      ]
     },
     "execution_count": 7,
     "metadata": {},
     "output_type": "execute_result"
    }
   ],
   "source": [
    "data.drop(['ORIGIN_CALL', 'ORIGIN_STAND', 'TAXI_ID', 'MISSING_DATA'], axis=1, inplace=True)\n",
    "data.head(10)"
   ]
  },
  {
   "cell_type": "markdown",
   "metadata": {},
   "source": [
    "# Create subsets"
   ]
  },
  {
   "cell_type": "markdown",
   "metadata": {},
   "source": [
    "### Create subset 1 (size 50)"
   ]
  },
  {
   "cell_type": "code",
   "execution_count": 11,
   "metadata": {},
   "outputs": [],
   "source": [
    "subset1 = data.sample(n=50, replace=False)"
   ]
  },
  {
   "cell_type": "code",
   "execution_count": 9,
   "metadata": {},
   "outputs": [
    {
     "data": {
      "text/html": [
       "<div>\n",
       "<style scoped>\n",
       "    .dataframe tbody tr th:only-of-type {\n",
       "        vertical-align: middle;\n",
       "    }\n",
       "\n",
       "    .dataframe tbody tr th {\n",
       "        vertical-align: top;\n",
       "    }\n",
       "\n",
       "    .dataframe thead th {\n",
       "        text-align: right;\n",
       "    }\n",
       "</style>\n",
       "<table border=\"1\" class=\"dataframe\">\n",
       "  <thead>\n",
       "    <tr style=\"text-align: right;\">\n",
       "      <th></th>\n",
       "      <th>TRIP_ID</th>\n",
       "      <th>CALL_TYPE</th>\n",
       "      <th>TIMESTAMP</th>\n",
       "      <th>DAY_TYPE</th>\n",
       "      <th>POLYLINE</th>\n",
       "    </tr>\n",
       "  </thead>\n",
       "  <tbody>\n",
       "    <tr>\n",
       "      <th>728872</th>\n",
       "      <td>1386188121620000080</td>\n",
       "      <td>C</td>\n",
       "      <td>1386188121</td>\n",
       "      <td>A</td>\n",
       "      <td>[[-8.613333,41.143329]]</td>\n",
       "    </tr>\n",
       "    <tr>\n",
       "      <th>986865</th>\n",
       "      <td>1391173965620000523</td>\n",
       "      <td>C</td>\n",
       "      <td>1391173965</td>\n",
       "      <td>A</td>\n",
       "      <td>[[-8.609625,41.160411],[-8.609625,41.160402],[...</td>\n",
       "    </tr>\n",
       "    <tr>\n",
       "      <th>954739</th>\n",
       "      <td>1390494518620000086</td>\n",
       "      <td>C</td>\n",
       "      <td>1390494518</td>\n",
       "      <td>A</td>\n",
       "      <td>[[-8.568378,41.167566]]</td>\n",
       "    </tr>\n",
       "    <tr>\n",
       "      <th>984857</th>\n",
       "      <td>1391149049620000254</td>\n",
       "      <td>C</td>\n",
       "      <td>1391149049</td>\n",
       "      <td>A</td>\n",
       "      <td>[[-8.602443,41.155668],[-8.602623,41.155236],[...</td>\n",
       "    </tr>\n",
       "    <tr>\n",
       "      <th>1188197</th>\n",
       "      <td>1394922832620000361</td>\n",
       "      <td>C</td>\n",
       "      <td>1394922832</td>\n",
       "      <td>A</td>\n",
       "      <td>[[-8.61561,41.140647],[-8.61525,41.141016],[-8...</td>\n",
       "    </tr>\n",
       "    <tr>\n",
       "      <th>1491573</th>\n",
       "      <td>1400446229620000670</td>\n",
       "      <td>B</td>\n",
       "      <td>1400446229</td>\n",
       "      <td>A</td>\n",
       "      <td>[[-8.614062,41.141052],[-8.614251,41.141034],[...</td>\n",
       "    </tr>\n",
       "    <tr>\n",
       "      <th>869458</th>\n",
       "      <td>1388685296620000529</td>\n",
       "      <td>C</td>\n",
       "      <td>1388685296</td>\n",
       "      <td>A</td>\n",
       "      <td>[[-8.648037,41.154966],[-8.648838,41.154804],[...</td>\n",
       "    </tr>\n",
       "    <tr>\n",
       "      <th>760885</th>\n",
       "      <td>1386770599620000267</td>\n",
       "      <td>C</td>\n",
       "      <td>1386770599</td>\n",
       "      <td>A</td>\n",
       "      <td>[[-8.630712,41.153949],[-8.630703,41.153859],[...</td>\n",
       "    </tr>\n",
       "    <tr>\n",
       "      <th>1618005</th>\n",
       "      <td>1402579016620000197</td>\n",
       "      <td>A</td>\n",
       "      <td>1402579016</td>\n",
       "      <td>A</td>\n",
       "      <td>[[-8.601255,41.181768],[-8.601264,41.181804],[...</td>\n",
       "    </tr>\n",
       "    <tr>\n",
       "      <th>1561421</th>\n",
       "      <td>1401640725620000508</td>\n",
       "      <td>C</td>\n",
       "      <td>1401640725</td>\n",
       "      <td>A</td>\n",
       "      <td>[[-8.597601,41.147802],[-8.597934,41.148126],[...</td>\n",
       "    </tr>\n",
       "  </tbody>\n",
       "</table>\n",
       "</div>"
      ],
      "text/plain": [
       "                     TRIP_ID CALL_TYPE   TIMESTAMP DAY_TYPE  \\\n",
       "728872   1386188121620000080         C  1386188121        A   \n",
       "986865   1391173965620000523         C  1391173965        A   \n",
       "954739   1390494518620000086         C  1390494518        A   \n",
       "984857   1391149049620000254         C  1391149049        A   \n",
       "1188197  1394922832620000361         C  1394922832        A   \n",
       "1491573  1400446229620000670         B  1400446229        A   \n",
       "869458   1388685296620000529         C  1388685296        A   \n",
       "760885   1386770599620000267         C  1386770599        A   \n",
       "1618005  1402579016620000197         A  1402579016        A   \n",
       "1561421  1401640725620000508         C  1401640725        A   \n",
       "\n",
       "                                                  POLYLINE  \n",
       "728872                             [[-8.613333,41.143329]]  \n",
       "986865   [[-8.609625,41.160411],[-8.609625,41.160402],[...  \n",
       "954739                             [[-8.568378,41.167566]]  \n",
       "984857   [[-8.602443,41.155668],[-8.602623,41.155236],[...  \n",
       "1188197  [[-8.61561,41.140647],[-8.61525,41.141016],[-8...  \n",
       "1491573  [[-8.614062,41.141052],[-8.614251,41.141034],[...  \n",
       "869458   [[-8.648037,41.154966],[-8.648838,41.154804],[...  \n",
       "760885   [[-8.630712,41.153949],[-8.630703,41.153859],[...  \n",
       "1618005  [[-8.601255,41.181768],[-8.601264,41.181804],[...  \n",
       "1561421  [[-8.597601,41.147802],[-8.597934,41.148126],[...  "
      ]
     },
     "execution_count": 9,
     "metadata": {},
     "output_type": "execute_result"
    }
   ],
   "source": [
    "subset1.head(10)"
   ]
  },
  {
   "cell_type": "markdown",
   "metadata": {},
   "source": [
    "# Check subset for statistical significance"
   ]
  },
  {
   "cell_type": "markdown",
   "metadata": {},
   "source": [
    "### Printing the histograms of each variable, both for the original dataset and the subset."
   ]
  },
  {
   "cell_type": "markdown",
   "metadata": {},
   "source": [
    "CALL_TYPE:"
   ]
  },
  {
   "cell_type": "code",
   "execution_count": 12,
   "metadata": {},
   "outputs": [
    {
     "data": {
      "image/png": "[encoded data removed]",
      "text/plain": [
       "<Figure size 640x480 with 1 Axes>"
      ]
     },
     "metadata": {},
     "output_type": "display_data"
    },
    {
     "data": {
      "image/png": "[encoded data removed]",
      "text/plain": [
       "<Figure size 640x480 with 1 Axes>"
      ]
     },
     "metadata": {},
     "output_type": "display_data"
    }
   ],
   "source": [
    "data_sorted = data.sort_values(by='CALL_TYPE')\n",
    "subset1_sorted = subset1.sort_values(by='CALL_TYPE')\n",
    "\n",
    "pyplot.hist(data_sorted['CALL_TYPE'], bins='auto')\n",
    "pyplot.xlabel('Call type')\n",
    "pyplot.ylabel('number of rows')\n",
    "pyplot.title('Original dataset. CALL_TYPE')\n",
    "pyplot.show()\n",
    "\n",
    "pyplot.hist(subset1_sorted['CALL_TYPE'], bins='auto')\n",
    "pyplot.xlabel('Call type')\n",
    "pyplot.ylabel('number of rows')\n",
    "pyplot.title('Subset1, CALL_TYPE')\n",
    "pyplot.show()"
   ]
  },
  {
   "cell_type": "code",
   "execution_count": 14,
   "metadata": {},
   "outputs": [],
   "source": [
    "#regne ut tall for CALL_TYPE\n",
    "# if tall>threshold\n",
    "    #regne ut tall for ....\n",
    "    #if tall>threshold\n",
    "        #regne ut....\n",
    "#else\n",
    "#velge nye random trajectories"
   ]
  },
  {
   "cell_type": "code",
   "execution_count": null,
   "metadata": {},
   "outputs": [],
   "source": []
  }
 ],
 "metadata": {
  "kernelspec": {
   "display_name": "Python 3",
   "language": "python",
   "name": "python3"
  },
  "language_info": {
   "codemirror_mode": {
    "name": "ipython",
    "version": 3
   },
   "file_extension": ".py",
   "mimetype": "text/x-python",
   "name": "python",
   "nbconvert_exporter": "python",
   "pygments_lexer": "ipython3",
   "version": "3.12.1"
  }
 },
 "nbformat": 4,
 "nbformat_minor": 2
}
