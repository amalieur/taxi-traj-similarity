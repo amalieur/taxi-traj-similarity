{
 "cells": [
  {
   "cell_type": "markdown",
   "metadata": {},
   "source": [
    "### Extracting bus route coordinates from KML-file\n",
    "This script has our KML-file as input. It removes all unecessary parts, and extracts the bus route names as well as their corresponding coordinates. As the KML-file was exportes with the latitude and longitude reversed, the script also takes care of that. In the end, it formats the data to match our .csv files (name, coordinates). \n",
    "\n",
    "Script made with the aid of chatGPT"
   ]
  },
  {
   "cell_type": "code",
   "execution_count": 8,
   "metadata": {},
   "outputs": [],
   "source": [
    "from xml.etree import ElementTree as ET\n",
    "\n",
    "def extract_bus_routes(kml_file, output_file):\n",
    "    tree = ET.parse(kml_file)\n",
    "    root = tree.getroot()\n",
    "\n",
    "    with open(output_file, 'w') as outfile:\n",
    "        outfile.write(\"name,coordinates\\n\")\n",
    "        for placemark in root.findall('.//{http://www.opengis.net/kml/2.2}Placemark'):\n",
    "            name = placemark.find('{http://www.opengis.net/kml/2.2}name').text.strip()\n",
    "            coordinates = placemark.find('.//{http://www.opengis.net/kml/2.2}coordinates').text.strip().split('\\n')\n",
    "            \n",
    "            formatted_coords = \"[\" + \", \".join([f\"[{c.strip().split(',')[0]}, {c.strip().split(',')[1]}]\" for c in coordinates]) + \"]\"\n",
    "            outfile.write(f'\"{name}\",\"{formatted_coords}\"\\n')\n",
    "\n",
    "if __name__ == \"__main__\":\n",
    "    kml_file = \"busroutes-amalie.kml\"  # Replace with the path to your KML file\n",
    "    output_file = \"bus_routes-amalie-formatted.csv\"   # Name of the output file\n",
    "    extract_bus_routes(kml_file, output_file)\n"
   ]
  },
  {
   "cell_type": "markdown",
   "metadata": {},
   "source": []
  }
 ],
 "metadata": {
  "kernelspec": {
   "display_name": "Python 3",
   "language": "python",
   "name": "python3"
  },
  "language_info": {
   "codemirror_mode": {
    "name": "ipython",
    "version": 3
   },
   "file_extension": ".py",
   "mimetype": "text/x-python",
   "name": "python",
   "nbconvert_exporter": "python",
   "pygments_lexer": "ipython3",
   "version": "3.12.1"
  }
 },
 "nbformat": 4,
 "nbformat_minor": 2
}
