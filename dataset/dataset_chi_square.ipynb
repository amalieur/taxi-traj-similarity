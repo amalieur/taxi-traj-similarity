{
 "cells": [
  {
   "cell_type": "markdown",
   "metadata": {},
   "source": [
    "# Preprocessing of data"
   ]
  },
  {
   "cell_type": "markdown",
   "metadata": {},
   "source": [
    "### Importings"
   ]
  },
  {
   "cell_type": "code",
   "execution_count": 204,
   "metadata": {},
   "outputs": [],
   "source": [
    "import pandas as pd\n",
    "import matplotlib.pyplot as pyplot\n",
    "import datetime"
   ]
  },
  {
   "cell_type": "markdown",
   "metadata": {},
   "source": [
    "### Print length of dataset and first 10 rows of the data"
   ]
  },
  {
   "cell_type": "code",
   "execution_count": 205,
   "metadata": {},
   "outputs": [
    {
     "name": "stdout",
     "output_type": "stream",
     "text": [
      "1710670\n"
     ]
    }
   ],
   "source": [
    "data = pd.read_csv('train.csv', nrows=None)\n",
    "original_length = len(data)\n",
    "print(original_length)"
   ]
  },
  {
   "cell_type": "code",
   "execution_count": 206,
   "metadata": {},
   "outputs": [],
   "source": [
    "subset_size = 1000\n",
    "\n",
    "ratio_constant = subset_size / original_length"
   ]
  },
  {
   "cell_type": "code",
   "execution_count": 207,
   "metadata": {},
   "outputs": [
    {
     "name": "stdout",
     "output_type": "stream",
     "text": [
      "Original størrelse på datasettet:\n",
      "1710670\n"
     ]
    },
    {
     "data": {
      "text/html": [
       "<div>\n",
       "<style scoped>\n",
       "    .dataframe tbody tr th:only-of-type {\n",
       "        vertical-align: middle;\n",
       "    }\n",
       "\n",
       "    .dataframe tbody tr th {\n",
       "        vertical-align: top;\n",
       "    }\n",
       "\n",
       "    .dataframe thead th {\n",
       "        text-align: right;\n",
       "    }\n",
       "</style>\n",
       "<table border=\"1\" class=\"dataframe\">\n",
       "  <thead>\n",
       "    <tr style=\"text-align: right;\">\n",
       "      <th></th>\n",
       "      <th>TRIP_ID</th>\n",
       "      <th>CALL_TYPE</th>\n",
       "      <th>ORIGIN_CALL</th>\n",
       "      <th>ORIGIN_STAND</th>\n",
       "      <th>TAXI_ID</th>\n",
       "      <th>TIMESTAMP</th>\n",
       "      <th>DAY_TYPE</th>\n",
       "      <th>MISSING_DATA</th>\n",
       "      <th>POLYLINE</th>\n",
       "    </tr>\n",
       "  </thead>\n",
       "  <tbody>\n",
       "    <tr>\n",
       "      <th>0</th>\n",
       "      <td>1372636858620000589</td>\n",
       "      <td>C</td>\n",
       "      <td>NaN</td>\n",
       "      <td>NaN</td>\n",
       "      <td>20000589</td>\n",
       "      <td>1372636858</td>\n",
       "      <td>A</td>\n",
       "      <td>False</td>\n",
       "      <td>[[-8.618643,41.141412],[-8.618499,41.141376],[...</td>\n",
       "    </tr>\n",
       "    <tr>\n",
       "      <th>1</th>\n",
       "      <td>1372637303620000596</td>\n",
       "      <td>B</td>\n",
       "      <td>NaN</td>\n",
       "      <td>7.0</td>\n",
       "      <td>20000596</td>\n",
       "      <td>1372637303</td>\n",
       "      <td>A</td>\n",
       "      <td>False</td>\n",
       "      <td>[[-8.639847,41.159826],[-8.640351,41.159871],[...</td>\n",
       "    </tr>\n",
       "    <tr>\n",
       "      <th>2</th>\n",
       "      <td>1372636951620000320</td>\n",
       "      <td>C</td>\n",
       "      <td>NaN</td>\n",
       "      <td>NaN</td>\n",
       "      <td>20000320</td>\n",
       "      <td>1372636951</td>\n",
       "      <td>A</td>\n",
       "      <td>False</td>\n",
       "      <td>[[-8.612964,41.140359],[-8.613378,41.14035],[-...</td>\n",
       "    </tr>\n",
       "    <tr>\n",
       "      <th>3</th>\n",
       "      <td>1372636854620000520</td>\n",
       "      <td>C</td>\n",
       "      <td>NaN</td>\n",
       "      <td>NaN</td>\n",
       "      <td>20000520</td>\n",
       "      <td>1372636854</td>\n",
       "      <td>A</td>\n",
       "      <td>False</td>\n",
       "      <td>[[-8.574678,41.151951],[-8.574705,41.151942],[...</td>\n",
       "    </tr>\n",
       "    <tr>\n",
       "      <th>4</th>\n",
       "      <td>1372637091620000337</td>\n",
       "      <td>C</td>\n",
       "      <td>NaN</td>\n",
       "      <td>NaN</td>\n",
       "      <td>20000337</td>\n",
       "      <td>1372637091</td>\n",
       "      <td>A</td>\n",
       "      <td>False</td>\n",
       "      <td>[[-8.645994,41.18049],[-8.645949,41.180517],[-...</td>\n",
       "    </tr>\n",
       "    <tr>\n",
       "      <th>5</th>\n",
       "      <td>1372636965620000231</td>\n",
       "      <td>C</td>\n",
       "      <td>NaN</td>\n",
       "      <td>NaN</td>\n",
       "      <td>20000231</td>\n",
       "      <td>1372636965</td>\n",
       "      <td>A</td>\n",
       "      <td>False</td>\n",
       "      <td>[[-8.615502,41.140674],[-8.614854,41.140926],[...</td>\n",
       "    </tr>\n",
       "    <tr>\n",
       "      <th>6</th>\n",
       "      <td>1372637210620000456</td>\n",
       "      <td>C</td>\n",
       "      <td>NaN</td>\n",
       "      <td>NaN</td>\n",
       "      <td>20000456</td>\n",
       "      <td>1372637210</td>\n",
       "      <td>A</td>\n",
       "      <td>False</td>\n",
       "      <td>[[-8.57952,41.145948],[-8.580942,41.145039],[-...</td>\n",
       "    </tr>\n",
       "    <tr>\n",
       "      <th>7</th>\n",
       "      <td>1372637299620000011</td>\n",
       "      <td>C</td>\n",
       "      <td>NaN</td>\n",
       "      <td>NaN</td>\n",
       "      <td>20000011</td>\n",
       "      <td>1372637299</td>\n",
       "      <td>A</td>\n",
       "      <td>False</td>\n",
       "      <td>[[-8.617563,41.146182],[-8.617527,41.145849],[...</td>\n",
       "    </tr>\n",
       "    <tr>\n",
       "      <th>8</th>\n",
       "      <td>1372637274620000403</td>\n",
       "      <td>C</td>\n",
       "      <td>NaN</td>\n",
       "      <td>NaN</td>\n",
       "      <td>20000403</td>\n",
       "      <td>1372637274</td>\n",
       "      <td>A</td>\n",
       "      <td>False</td>\n",
       "      <td>[[-8.611794,41.140557],[-8.611785,41.140575],[...</td>\n",
       "    </tr>\n",
       "    <tr>\n",
       "      <th>9</th>\n",
       "      <td>1372637905620000320</td>\n",
       "      <td>C</td>\n",
       "      <td>NaN</td>\n",
       "      <td>NaN</td>\n",
       "      <td>20000320</td>\n",
       "      <td>1372637905</td>\n",
       "      <td>A</td>\n",
       "      <td>False</td>\n",
       "      <td>[[-8.615907,41.140557],[-8.614449,41.141088],[...</td>\n",
       "    </tr>\n",
       "  </tbody>\n",
       "</table>\n",
       "</div>"
      ],
      "text/plain": [
       "               TRIP_ID CALL_TYPE  ORIGIN_CALL  ORIGIN_STAND   TAXI_ID  \\\n",
       "0  1372636858620000589         C          NaN           NaN  20000589   \n",
       "1  1372637303620000596         B          NaN           7.0  20000596   \n",
       "2  1372636951620000320         C          NaN           NaN  20000320   \n",
       "3  1372636854620000520         C          NaN           NaN  20000520   \n",
       "4  1372637091620000337         C          NaN           NaN  20000337   \n",
       "5  1372636965620000231         C          NaN           NaN  20000231   \n",
       "6  1372637210620000456         C          NaN           NaN  20000456   \n",
       "7  1372637299620000011         C          NaN           NaN  20000011   \n",
       "8  1372637274620000403         C          NaN           NaN  20000403   \n",
       "9  1372637905620000320         C          NaN           NaN  20000320   \n",
       "\n",
       "    TIMESTAMP DAY_TYPE  MISSING_DATA  \\\n",
       "0  1372636858        A         False   \n",
       "1  1372637303        A         False   \n",
       "2  1372636951        A         False   \n",
       "3  1372636854        A         False   \n",
       "4  1372637091        A         False   \n",
       "5  1372636965        A         False   \n",
       "6  1372637210        A         False   \n",
       "7  1372637299        A         False   \n",
       "8  1372637274        A         False   \n",
       "9  1372637905        A         False   \n",
       "\n",
       "                                            POLYLINE  \n",
       "0  [[-8.618643,41.141412],[-8.618499,41.141376],[...  \n",
       "1  [[-8.639847,41.159826],[-8.640351,41.159871],[...  \n",
       "2  [[-8.612964,41.140359],[-8.613378,41.14035],[-...  \n",
       "3  [[-8.574678,41.151951],[-8.574705,41.151942],[...  \n",
       "4  [[-8.645994,41.18049],[-8.645949,41.180517],[-...  \n",
       "5  [[-8.615502,41.140674],[-8.614854,41.140926],[...  \n",
       "6  [[-8.57952,41.145948],[-8.580942,41.145039],[-...  \n",
       "7  [[-8.617563,41.146182],[-8.617527,41.145849],[...  \n",
       "8  [[-8.611794,41.140557],[-8.611785,41.140575],[...  \n",
       "9  [[-8.615907,41.140557],[-8.614449,41.141088],[...  "
      ]
     },
     "execution_count": 207,
     "metadata": {},
     "output_type": "execute_result"
    }
   ],
   "source": [
    "print(\"Original størrelse på datasettet:\")\n",
    "print(original_length)\n",
    "data.head(10)"
   ]
  },
  {
   "cell_type": "markdown",
   "metadata": {},
   "source": [
    "### Removing unwanted rows from dataset"
   ]
  },
  {
   "cell_type": "markdown",
   "metadata": {},
   "source": [
    "Remove all columns with MISSING_DATA=True. Because we only want the trips that do not miss any datapoint"
   ]
  },
  {
   "cell_type": "code",
   "execution_count": 208,
   "metadata": {},
   "outputs": [],
   "source": [
    "data = data[data['MISSING_DATA']!=True]"
   ]
  },
  {
   "cell_type": "code",
   "execution_count": 209,
   "metadata": {},
   "outputs": [
    {
     "name": "stdout",
     "output_type": "stream",
     "text": [
      "New length of dataset:\n",
      "1710660\n",
      "Number of removed rows:\n",
      "10\n"
     ]
    }
   ],
   "source": [
    "print(\"New length of dataset:\")\n",
    "print(len(data))\n",
    "\n",
    "print(\"Number of removed rows:\")\n",
    "print(original_length - len(data))\n",
    "\n",
    "original_length = len(data)"
   ]
  },
  {
   "cell_type": "markdown",
   "metadata": {},
   "source": [
    "### Removing columns that we do not need anymore: \n",
    "ORIGIN_CALL, ORIGIN_STAND, TAXI_ID and MISSING_DATA (already used the info we needed from this column)."
   ]
  },
  {
   "cell_type": "code",
   "execution_count": 210,
   "metadata": {},
   "outputs": [
    {
     "data": {
      "text/html": [
       "<div>\n",
       "<style scoped>\n",
       "    .dataframe tbody tr th:only-of-type {\n",
       "        vertical-align: middle;\n",
       "    }\n",
       "\n",
       "    .dataframe tbody tr th {\n",
       "        vertical-align: top;\n",
       "    }\n",
       "\n",
       "    .dataframe thead th {\n",
       "        text-align: right;\n",
       "    }\n",
       "</style>\n",
       "<table border=\"1\" class=\"dataframe\">\n",
       "  <thead>\n",
       "    <tr style=\"text-align: right;\">\n",
       "      <th></th>\n",
       "      <th>TRIP_ID</th>\n",
       "      <th>CALL_TYPE</th>\n",
       "      <th>TIMESTAMP</th>\n",
       "      <th>POLYLINE</th>\n",
       "    </tr>\n",
       "  </thead>\n",
       "  <tbody>\n",
       "    <tr>\n",
       "      <th>0</th>\n",
       "      <td>1372636858620000589</td>\n",
       "      <td>C</td>\n",
       "      <td>1372636858</td>\n",
       "      <td>[[-8.618643,41.141412],[-8.618499,41.141376],[...</td>\n",
       "    </tr>\n",
       "    <tr>\n",
       "      <th>1</th>\n",
       "      <td>1372637303620000596</td>\n",
       "      <td>B</td>\n",
       "      <td>1372637303</td>\n",
       "      <td>[[-8.639847,41.159826],[-8.640351,41.159871],[...</td>\n",
       "    </tr>\n",
       "    <tr>\n",
       "      <th>2</th>\n",
       "      <td>1372636951620000320</td>\n",
       "      <td>C</td>\n",
       "      <td>1372636951</td>\n",
       "      <td>[[-8.612964,41.140359],[-8.613378,41.14035],[-...</td>\n",
       "    </tr>\n",
       "    <tr>\n",
       "      <th>3</th>\n",
       "      <td>1372636854620000520</td>\n",
       "      <td>C</td>\n",
       "      <td>1372636854</td>\n",
       "      <td>[[-8.574678,41.151951],[-8.574705,41.151942],[...</td>\n",
       "    </tr>\n",
       "    <tr>\n",
       "      <th>4</th>\n",
       "      <td>1372637091620000337</td>\n",
       "      <td>C</td>\n",
       "      <td>1372637091</td>\n",
       "      <td>[[-8.645994,41.18049],[-8.645949,41.180517],[-...</td>\n",
       "    </tr>\n",
       "    <tr>\n",
       "      <th>5</th>\n",
       "      <td>1372636965620000231</td>\n",
       "      <td>C</td>\n",
       "      <td>1372636965</td>\n",
       "      <td>[[-8.615502,41.140674],[-8.614854,41.140926],[...</td>\n",
       "    </tr>\n",
       "    <tr>\n",
       "      <th>6</th>\n",
       "      <td>1372637210620000456</td>\n",
       "      <td>C</td>\n",
       "      <td>1372637210</td>\n",
       "      <td>[[-8.57952,41.145948],[-8.580942,41.145039],[-...</td>\n",
       "    </tr>\n",
       "    <tr>\n",
       "      <th>7</th>\n",
       "      <td>1372637299620000011</td>\n",
       "      <td>C</td>\n",
       "      <td>1372637299</td>\n",
       "      <td>[[-8.617563,41.146182],[-8.617527,41.145849],[...</td>\n",
       "    </tr>\n",
       "    <tr>\n",
       "      <th>8</th>\n",
       "      <td>1372637274620000403</td>\n",
       "      <td>C</td>\n",
       "      <td>1372637274</td>\n",
       "      <td>[[-8.611794,41.140557],[-8.611785,41.140575],[...</td>\n",
       "    </tr>\n",
       "    <tr>\n",
       "      <th>9</th>\n",
       "      <td>1372637905620000320</td>\n",
       "      <td>C</td>\n",
       "      <td>1372637905</td>\n",
       "      <td>[[-8.615907,41.140557],[-8.614449,41.141088],[...</td>\n",
       "    </tr>\n",
       "  </tbody>\n",
       "</table>\n",
       "</div>"
      ],
      "text/plain": [
       "               TRIP_ID CALL_TYPE   TIMESTAMP  \\\n",
       "0  1372636858620000589         C  1372636858   \n",
       "1  1372637303620000596         B  1372637303   \n",
       "2  1372636951620000320         C  1372636951   \n",
       "3  1372636854620000520         C  1372636854   \n",
       "4  1372637091620000337         C  1372637091   \n",
       "5  1372636965620000231         C  1372636965   \n",
       "6  1372637210620000456         C  1372637210   \n",
       "7  1372637299620000011         C  1372637299   \n",
       "8  1372637274620000403         C  1372637274   \n",
       "9  1372637905620000320         C  1372637905   \n",
       "\n",
       "                                            POLYLINE  \n",
       "0  [[-8.618643,41.141412],[-8.618499,41.141376],[...  \n",
       "1  [[-8.639847,41.159826],[-8.640351,41.159871],[...  \n",
       "2  [[-8.612964,41.140359],[-8.613378,41.14035],[-...  \n",
       "3  [[-8.574678,41.151951],[-8.574705,41.151942],[...  \n",
       "4  [[-8.645994,41.18049],[-8.645949,41.180517],[-...  \n",
       "5  [[-8.615502,41.140674],[-8.614854,41.140926],[...  \n",
       "6  [[-8.57952,41.145948],[-8.580942,41.145039],[-...  \n",
       "7  [[-8.617563,41.146182],[-8.617527,41.145849],[...  \n",
       "8  [[-8.611794,41.140557],[-8.611785,41.140575],[...  \n",
       "9  [[-8.615907,41.140557],[-8.614449,41.141088],[...  "
      ]
     },
     "execution_count": 210,
     "metadata": {},
     "output_type": "execute_result"
    }
   ],
   "source": [
    "data.drop(['ORIGIN_CALL', 'ORIGIN_STAND', 'TAXI_ID', 'MISSING_DATA', 'DAY_TYPE'], axis=1, inplace=True)\n",
    "data.head(10)"
   ]
  },
  {
   "cell_type": "markdown",
   "metadata": {},
   "source": [
    "# Create subsets and check if they are good enough"
   ]
  },
  {
   "cell_type": "markdown",
   "metadata": {},
   "source": [
    "## Saving \"expected\" values. The number of rows from each call type"
   ]
  },
  {
   "cell_type": "code",
   "execution_count": 211,
   "metadata": {},
   "outputs": [
    {
     "name": "stdout",
     "output_type": "stream",
     "text": [
      "213.23165777151644\n",
      "478.10390081079345\n",
      "308.6585957548797\n"
     ]
    }
   ],
   "source": [
    "#finding the number of rows of each call type (A, B, C) in the original dataset\n",
    "original_type_a_count = len(data[data['CALL_TYPE']=='A'])*ratio_constant\n",
    "original_type_b_count = len(data[data['CALL_TYPE']=='B'])*ratio_constant\n",
    "original_type_c_count = len(data[data['CALL_TYPE']=='C'])*ratio_constant\n",
    "\n",
    "print(original_type_a_count)\n",
    "print(original_type_b_count)\n",
    "print(original_type_c_count)\n",
    "\n"
   ]
  },
  {
   "cell_type": "code",
   "execution_count": 212,
   "metadata": {},
   "outputs": [],
   "source": [
    "#calculate the chi_square value given input which is the count from a subset. \n",
    "#Then calculate the value of the chi_square of the subset\n",
    "def chi_square_call_type(type_a, type_b, type_c):\n",
    "    part_a = ((type_a - original_type_a_count)**2)/original_type_a_count\n",
    "    part_b = ((type_b - original_type_b_count)**2)/original_type_b_count\n",
    "    part_c = ((type_c - original_type_c_count)**2)/original_type_c_count\n",
    "    chi_square = part_a + part_b + part_c\n",
    "    return chi_square"
   ]
  },
  {
   "cell_type": "code",
   "execution_count": 213,
   "metadata": {},
   "outputs": [],
   "source": [
    "def get_info_from_timestamps(subset):\n",
    "    hours_dict = {\n",
    "        0:0,\n",
    "        1:0,\n",
    "        2:0,\n",
    "        3:0,\n",
    "        4:0,\n",
    "        5:0,\n",
    "        6:0,\n",
    "        7:0,\n",
    "        8:0,\n",
    "        9:0,\n",
    "        10:0,\n",
    "        11:0,\n",
    "        12:0,\n",
    "        13:0,\n",
    "        14:0,\n",
    "        15:0,\n",
    "        16:0,\n",
    "        17:0,\n",
    "        18:0,\n",
    "        19:0,\n",
    "        20:0,\n",
    "        21:0,\n",
    "        22:0,\n",
    "        23:0\n",
    "    }\n",
    "    days_dict={\n",
    "        \"Monday\":0,\n",
    "        \"Tuesday\":0,\n",
    "        \"Wednesday\":0,\n",
    "        \"Thursday\":0,\n",
    "        \"Friday\":0,\n",
    "        \"Saturday\":0,\n",
    "        \"Sunday\":0\n",
    "    }\n",
    "    months_dict={\n",
    "        1:0,\n",
    "        2:0,\n",
    "        3:0,\n",
    "        4:0,\n",
    "        5:0,\n",
    "        6:0,\n",
    "        7:0,\n",
    "        8:0,\n",
    "        9:0,\n",
    "        10:0,\n",
    "        11:0,\n",
    "        12:0\n",
    "    }\n",
    "    \n",
    "    for row in subset['TIMESTAMP']:\n",
    "        time = datetime.datetime.fromtimestamp(row)\n",
    "        hours_dict[time.hour]+=1\n",
    "        days_dict[time.strftime(\"%A\")]+=1\n",
    "        months_dict[time.month]+=1\n",
    "    return hours_dict, days_dict, months_dict"
   ]
  },
  {
   "cell_type": "markdown",
   "metadata": {},
   "source": [
    "### Saving original values for timestamp, expected values"
   ]
  },
  {
   "cell_type": "code",
   "execution_count": 214,
   "metadata": {},
   "outputs": [],
   "source": [
    "original_hours, original_days, original_months = get_info_from_timestamps(data)\n",
    "\n",
    "#print(original_hours)\n",
    "#print(original_days)\n",
    "#print(original_months)"
   ]
  },
  {
   "cell_type": "code",
   "execution_count": 215,
   "metadata": {},
   "outputs": [],
   "source": [
    "def chi_square_timestamp(hours_dict, days_dict, months_dict):\n",
    "    #DAYS\n",
    "    chi_sum_days = 0\n",
    "    for key in days_dict:\n",
    "        chi_sum_days += (days_dict[key]-(original_days[key]*ratio_constant))**2/(original_days[key]*ratio_constant)\n",
    "    if chi_sum_days <= 12.59:\n",
    "        print(\"WEEKDAYS OK! \" + str(chi_sum_days))\n",
    "        #MONTHS\n",
    "        chi_sum_months = 0\n",
    "        for key in months_dict:\n",
    "            chi_sum_months += (months_dict[key]-(original_months[key]*ratio_constant))**2/(original_months[key]*ratio_constant)\n",
    "\n",
    "        if chi_sum_months <= 19.68:\n",
    "            print(\"MONTHS OK! \" + str(chi_sum_months))\n",
    "            #HOURS\n",
    "            chi_sum_hours = 0\n",
    "            for key in hours_dict:\n",
    "                chi_sum_hours += (hours_dict[key]-(original_hours[key]*ratio_constant))**2/(original_hours[key]*ratio_constant)\n",
    "\n",
    "                if chi_sum_hours <= 35.17:\n",
    "                    print(\"HOURS OK! \" + str(chi_sum_hours))\n",
    "                    return True\n",
    "                \n",
    "    return False\n",
    "    "
   ]
  },
  {
   "cell_type": "code",
   "execution_count": 216,
   "metadata": {},
   "outputs": [],
   "source": [
    "def print_histogram_timestamps(hours_dict, days_dict, months_dict):\n",
    "    keys_hours = list(hours_dict.keys())\n",
    "    values_hours = list(hours_dict.values())\n",
    "    pyplot.bar(keys_hours, values_hours)\n",
    "    pyplot.title(\"HOURS\")\n",
    "    pyplot.show()\n",
    "\n",
    "    keys_hours = list(original_hours.keys())\n",
    "    values_hours = list(original_hours.values())\n",
    "    pyplot.bar(keys_hours, values_hours)\n",
    "    pyplot.title(\"ORIGINAL HOURS\")\n",
    "    pyplot.show()\n",
    "\n",
    "    keys_days = list(days_dict.keys())\n",
    "    values_days = list(days_dict.values())\n",
    "    pyplot.bar(keys_days, values_days)\n",
    "    pyplot.title(\"DAYS\")\n",
    "    pyplot.show()\n",
    "\n",
    "    keys_days = list(original_days.keys())\n",
    "    values_days = list(original_days.values())\n",
    "    pyplot.bar(keys_days, values_days)\n",
    "    pyplot.title(\"ORIGINAL DAYS\")\n",
    "    pyplot.show()\n",
    "\n",
    "    keys_months = list(months_dict.keys())\n",
    "    values_months = list(months_dict.values())\n",
    "    pyplot.bar(keys_months, values_months)\n",
    "    pyplot.title(\"MONTHS\")\n",
    "    pyplot.show()\n",
    "\n",
    "    keys_months = list(original_months.keys())\n",
    "    values_months = list(original_months.values())\n",
    "    pyplot.bar(keys_months, values_months)\n",
    "    pyplot.title(\"ORIGINAL MONTHS\")\n",
    "    pyplot.show()"
   ]
  },
  {
   "cell_type": "markdown",
   "metadata": {},
   "source": [
    "### Saving the timestamp-info from original data"
   ]
  },
  {
   "cell_type": "code",
   "execution_count": 217,
   "metadata": {},
   "outputs": [],
   "source": [
    "#finding the number of rows of each hour, weekday and month from timestamp in the original dataset\n",
    "original_hours_dict, original_weekdays_dict, original_months_dict = get_info_from_timestamps(data)\n"
   ]
  },
  {
   "cell_type": "markdown",
   "metadata": {},
   "source": [
    "###"
   ]
  },
  {
   "cell_type": "markdown",
   "metadata": {},
   "source": [
    "### Printing the histograms and calculating chi-square of each variable, both for the original dataset and the subset."
   ]
  },
  {
   "cell_type": "markdown",
   "metadata": {},
   "source": [
    "CALL_TYPE:"
   ]
  },
  {
   "cell_type": "code",
   "execution_count": 218,
   "metadata": {},
   "outputs": [],
   "source": [
    "def print_histogram(column, subset):\n",
    "    data_sorted = data.sort_values(by=column)\n",
    "    subset_sorted = subset.sort_values(by=column)\n",
    "\n",
    "    pyplot.hist(data_sorted[column], bins='auto')\n",
    "    pyplot.xlabel(column)\n",
    "    pyplot.ylabel('number of rows')\n",
    "    pyplot.title('Original dataset. ' + column)\n",
    "    pyplot.show()\n",
    "\n",
    "    pyplot.hist(subset_sorted[column], bins='auto')\n",
    "    pyplot.xlabel(column)\n",
    "    pyplot.ylabel('number of rows')\n",
    "    pyplot.title('Subset1, ' + column)\n",
    "    pyplot.show()"
   ]
  },
  {
   "cell_type": "code",
   "execution_count": 219,
   "metadata": {},
   "outputs": [
    {
     "name": "stdout",
     "output_type": "stream",
     "text": [
      "Starter forsøk 1\n",
      "CALL_TYPE OK!1.8782310806037226\n",
      "WEEKDAYS OK! 8.893934089753193\n",
      "MONTHS OK! 11.566240349119155\n",
      "HOURS OK! 0.17829262689868347\n",
      "TIMESTAMP OK!\n"
     ]
    },
    {
     "data": {
      "image/png": "[encoded data removed]",
      "text/plain": [
       "<Figure size 640x480 with 1 Axes>"
      ]
     },
     "metadata": {},
     "output_type": "display_data"
    },
    {
     "data": {
      "image/png": "[encoded data removed]",
      "text/plain": [
       "<Figure size 640x480 with 1 Axes>"
      ]
     },
     "metadata": {},
     "output_type": "display_data"
    },
    {
     "data": {
      "image/png": "[encoded data removed]",
      "text/plain": [
       "<Figure size 640x480 with 1 Axes>"
      ]
     },
     "metadata": {},
     "output_type": "display_data"
    },
    {
     "data": {
      "image/png": "[encoded data removed]",
      "text/plain": [
       "<Figure size 640x480 with 1 Axes>"
      ]
     },
     "metadata": {},
     "output_type": "display_data"
    },
    {
     "data": {
      "image/png": "[encoded data removed]",
      "text/plain": [
       "<Figure size 640x480 with 1 Axes>"
      ]
     },
     "metadata": {},
     "output_type": "display_data"
    },
    {
     "data": {
      "image/png": "[encoded data removed]",
      "text/plain": [
       "<Figure size 640x480 with 1 Axes>"
      ]
     },
     "metadata": {},
     "output_type": "display_data"
    },
    {
     "data": {
      "image/png": "[encoded data removed]",
      "text/plain": [
       "<Figure size 640x480 with 1 Axes>"
      ]
     },
     "metadata": {},
     "output_type": "display_data"
    },
    {
     "data": {
      "image/png": "[encoded data removed]",
      "text/plain": [
       "<Figure size 640x480 with 1 Axes>"
      ]
     },
     "metadata": {},
     "output_type": "display_data"
    }
   ],
   "source": [
    "subset_ok = False\n",
    "counter = 1\n",
    "while subset_ok==False:\n",
    "    subset = data.sample(n=subset_size)\n",
    "    print(\"Starter forsøk \" + str(counter))\n",
    "    counter +=1\n",
    "    #CALL_TYPE\n",
    "    call_type_a = len(subset[subset['CALL_TYPE']=='A'])\n",
    "    call_type_b = len(subset[subset['CALL_TYPE']=='B'])\n",
    "    call_type_c = len(subset[subset['CALL_TYPE']=='C'])\n",
    "    chi_square_call_type_result = chi_square_call_type(call_type_a, call_type_b, call_type_c)\n",
    "    if chi_square_call_type_result <= 5.99:\n",
    "        print(\"CALL_TYPE OK!\" + str(chi_square_call_type_result))\n",
    "\n",
    "        #TIMESTAMP\n",
    "        hours_dict, weekdays_dict, months_dict = get_info_from_timestamps(subset)\n",
    "        if chi_square_timestamp(hours_dict, weekdays_dict, months_dict):\n",
    "            print(\"TIMESTAMP OK!\")\n",
    "            print_histogram('CALL_TYPE', subset)\n",
    "            print_histogram_timestamps(hours_dict, weekdays_dict, months_dict)\n",
    "            subset_ok=True"
   ]
  },
  {
   "cell_type": "code",
   "execution_count": null,
   "metadata": {},
   "outputs": [],
   "source": []
  }
 ],
 "metadata": {
  "kernelspec": {
   "display_name": "Python 3",
   "language": "python",
   "name": "python3"
  },
  "language_info": {
   "codemirror_mode": {
    "name": "ipython",
    "version": 3
   },
   "file_extension": ".py",
   "mimetype": "text/x-python",
   "name": "python",
   "nbconvert_exporter": "python",
   "pygments_lexer": "ipython3",
   "version": "3.12.1"
  }
 },
 "nbformat": 4,
 "nbformat_minor": 2
}
