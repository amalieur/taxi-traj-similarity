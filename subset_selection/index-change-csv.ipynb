{
 "cells": [
  {
   "cell_type": "markdown",
   "metadata": {},
   "source": [
    "# Code to add a new index to the data\n",
    "As the Porto dataset is indexed with LARGE numbers, we create a new index here. Goes from 1 to 10.000. \n",
    "\n",
    "Made with ChatGPT\n"
   ]
  },
  {
   "cell_type": "code",
   "execution_count": 2,
   "metadata": {},
   "outputs": [],
   "source": [
    "import csv\n",
    "input_file = \"subset-100000-6-percent-NY-1-MAI.csv\"    \n",
    "output_file = \"subset-100000-6-new-index.csv\"  \n",
    "# Function to add an extra field with indexes \n",
    "with open(input_file, 'r') as csv_input:\n",
    "    reader = csv.DictReader(csv_input)\n",
    "    fieldnames = ['INDEX'] + reader.fieldnames \n",
    "        \n",
    "    with open(output_file, 'w', newline='') as csv_output:\n",
    "        writer = csv.DictWriter(csv_output, fieldnames=fieldnames)\n",
    "        writer.writeheader()\n",
    "            \n",
    "        index = 1  # Starting index\n",
    "            \n",
    "        for row in reader:\n",
    "            row['INDEX'] = index\n",
    "            index += 1\n",
    "                \n",
    "            writer.writerow(row)"
   ]
  }
 ],
 "metadata": {
  "kernelspec": {
   "display_name": "masteroppgave",
   "language": "python",
   "name": "python3"
  },
  "language_info": {
   "codemirror_mode": {
    "name": "ipython",
    "version": 3
   },
   "file_extension": ".py",
   "mimetype": "text/x-python",
   "name": "python",
   "nbconvert_exporter": "python",
   "pygments_lexer": "ipython3",
   "version": "3.12.1"
  },
  "orig_nbformat": 4
 },
 "nbformat": 4,
 "nbformat_minor": 2
}
