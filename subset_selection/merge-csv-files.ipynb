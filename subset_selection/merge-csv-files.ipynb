{
 "cells": [
  {
   "cell_type": "markdown",
   "metadata": {},
   "source": [
    "# Code to put all the .csv-files together after cleaning it in several parts. \n",
    "\n",
    "Made by ChatGPT"
   ]
  },
  {
   "cell_type": "code",
   "execution_count": 1,
   "metadata": {},
   "outputs": [],
   "source": [
    "import os\n",
    "\n",
    "# Sett stien til mappen som inneholder CSV-filene\n",
    "folder_path = 'cleaned_data/'\n",
    "\n",
    "# Åpne utgangsfilen for skriving\n",
    "with open('cleaned_data/cleaned_data_all.csv', 'w') as output_file:\n",
    "    # Loop gjennom hver fil i mappen\n",
    "    for filename in os.listdir(folder_path):\n",
    "        if filename.endswith('.csv'):\n",
    "            # Åpne hver CSV-fil for lesing\n",
    "            with open(os.path.join(folder_path, filename), 'r') as input_file:\n",
    "                # Les den første linjen (overskriften)\n",
    "                header = input_file.readline().strip()\n",
    "                # Skriv overskriften til utgangsfilen hvis det er den første filen\n",
    "                if filename == os.listdir(folder_path)[0]:\n",
    "                    output_file.write(header + '\\n')\n",
    "                # Les resten av filen og skriv innholdet til utgangsfilen\n",
    "                for line in input_file:\n",
    "                    output_file.write(line)"
   ]
  }
 ],
 "metadata": {
  "kernelspec": {
   "display_name": "masteroppgave",
   "language": "python",
   "name": "python3"
  },
  "language_info": {
   "codemirror_mode": {
    "name": "ipython",
    "version": 3
   },
   "file_extension": ".py",
   "mimetype": "text/x-python",
   "name": "python",
   "nbconvert_exporter": "python",
   "pygments_lexer": "ipython3",
   "version": "3.12.1"
  },
  "orig_nbformat": 4
 },
 "nbformat": 4,
 "nbformat_minor": 2
}
